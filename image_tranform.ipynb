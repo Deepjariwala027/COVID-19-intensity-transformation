{
 "cells": [
  {
   "cell_type": "code",
   "execution_count": 1,
   "id": "ebadead0",
   "metadata": {},
   "outputs": [],
   "source": [
    "import cv2\n",
    "import numpy as np\n",
    "\n",
    "# Open the image.\n",
    "for i in range(1,301):\n",
    "    img = cv2.imread('Training_data\\COVID-'+str(i)+'.png')\n",
    "\n",
    "    # Trying 4 gamma values.\n",
    "    for gamma in [1.5]:\n",
    "\n",
    "        gamma_corrected = np.array(255*(img / 255) ** gamma, dtype = 'uint8')\n",
    "\n",
    "        # Save edited images.\n",
    "        cv2.imwrite('Training_data_gval\\COVID-'+str(i)+'.png', gamma_corrected)"
   ]
  },
  {
   "cell_type": "code",
   "execution_count": 1,
   "id": "c7af218f",
   "metadata": {},
   "outputs": [],
   "source": [
    "import cv2\n",
    "import numpy as np\n",
    "\n",
    "# # Open the image.\n",
    "# for i in range(1,301):\n",
    "img = cv2.imread('COVID-169.png')\n",
    "\n",
    "# Trying 4 gamma values.\n",
    "for gamma in [0.25, 0.75, 0.85, 0.95, 1, 1.15, 1.75, 2]:\n",
    "\n",
    "    gamma_corrected = np.array(255*(img / 255) ** gamma, dtype = 'uint8')\n",
    "\n",
    "    # Save edited images.\n",
    "    cv2.imwrite('paper_image\\COVID-'+str(gamma)+'.png', gamma_corrected)"
   ]
  },
  {
   "cell_type": "code",
   "execution_count": 2,
   "id": "92efe922",
   "metadata": {},
   "outputs": [
    {
     "data": {
      "text/plain": [
       "True"
      ]
     },
     "execution_count": 2,
     "metadata": {},
     "output_type": "execute_result"
    }
   ],
   "source": [
    "img = cv2.imread('COVID-169.png')\n",
    "grayimg = cv2.cvtColor(img, cv2.COLOR_BGR2GRAY)\n",
    "clahe = cv2.createCLAHE()\n",
    "cl1 = clahe.apply(grayimg)\n",
    "cv2.imwrite('paper_image\\COVID-adhist.png', gamma_corrected)"
   ]
  },
  {
   "cell_type": "code",
   "execution_count": 3,
   "id": "bc8ffcf6",
   "metadata": {},
   "outputs": [
    {
     "data": {
      "text/plain": [
       "True"
      ]
     },
     "execution_count": 3,
     "metadata": {},
     "output_type": "execute_result"
    }
   ],
   "source": [
    "import cv2\n",
    "import numpy as np\n",
    "  \n",
    "# Function to map each intensity level to output intensity level.\n",
    "def pixelVal(pix, r1, s1, r2, s2):\n",
    "    if (0 <= pix and pix <= r1):\n",
    "        return (s1 / r1)*pix\n",
    "    elif (r1 < pix and pix <= r2):\n",
    "        return ((s2 - s1)/(r2 - r1)) * (pix - r1) + s1\n",
    "    else:\n",
    "        return ((255 - s2)/(255 - r2)) * (pix - r2) + s2\n",
    "  \n",
    "# Open the image.\n",
    "img = cv2.imread('COVID-169.png')\n",
    "  \n",
    "# Define parameters.\n",
    "r1 = 70\n",
    "s1 = 0\n",
    "r2 = 140\n",
    "s2 = 255\n",
    "  \n",
    "# Vectorize the function to apply it to each value in the Numpy array.\n",
    "pixelVal_vec = np.vectorize(pixelVal)\n",
    "  \n",
    "# Apply contrast stretching.\n",
    "contrast_stretched = pixelVal_vec(img, r1, s1, r2, s2)\n",
    "  \n",
    "# Save edited image.\n",
    "cv2.imwrite('paper_image\\COVID-contrastst.png', gamma_corrected)"
   ]
  },
  {
   "cell_type": "code",
   "execution_count": 2,
   "id": "6fe02647",
   "metadata": {},
   "outputs": [],
   "source": [
    "import cv2\n",
    "import numpy as np\n",
    "\n",
    "# Open the image.\n",
    "for i in range(1,301):\n",
    "    img = cv2.imread('Training_data\\\\Normal-'+str(i)+'.png')\n",
    "\n",
    "    # Trying 4 gamma values.\n",
    "    for gamma in [1.5]:\n",
    "\n",
    "        gamma_corrected = np.array(255*(img / 255) ** gamma, dtype = 'uint8')\n",
    "\n",
    "        # Save edited images.\n",
    "        cv2.imwrite('Training_data_gval\\\\Normal-'+str(i)+'.png', gamma_corrected)"
   ]
  },
  {
   "cell_type": "code",
   "execution_count": 3,
   "id": "f3d76a49",
   "metadata": {},
   "outputs": [],
   "source": [
    "import cv2\n",
    "import numpy as np\n",
    "\n",
    "# Open the image.\n",
    "for i in range(1,301):\n",
    "    img = cv2.imread('Training_data\\\\Viral Pneumonia-'+str(i)+'.png')\n",
    "\n",
    "    # Trying 4 gamma values.\n",
    "    for gamma in [1.5]:\n",
    "\n",
    "        gamma_corrected = np.array(255*(img / 255) ** gamma, dtype = 'uint8')\n",
    "\n",
    "        # Save edited images.\n",
    "        cv2.imwrite('Training_data_gval\\\\Viral Pneumonia-'+str(i)+'.png', gamma_corrected)"
   ]
  },
  {
   "cell_type": "code",
   "execution_count": 8,
   "id": "df5c3c87",
   "metadata": {},
   "outputs": [],
   "source": [
    "import numpy as np\n",
    "import cv2 as cv\n",
    "img = cv.imread('tsukuba_l.png',0)\n",
    "# create a CLAHE object (Arguments are optional).\n",
    "clahe = cv.createCLAHE(clipLimit=2.0, tileGridSize=(8,8))\n",
    "cl1 = clahe.apply(img)\n",
    "cv.imwrite('clahe_2.jpg',cl1)"
   ]
  },
  {
   "cell_type": "code",
   "execution_count": 8,
   "id": "3182156d",
   "metadata": {},
   "outputs": [],
   "source": [
    "import cv2\n",
    "import numpy as np\n",
    "\n",
    "# Open the image.\n",
    "for i in range(1,1001):\n",
    "    img = cv2.imread('Training_data\\\\Normal-'+str(i)+'.png')\n",
    "    grayimg = cv2.cvtColor(img, cv2.COLOR_BGR2GRAY)\n",
    "    equ = cv2.equalizeHist(grayimg)\n",
    "    cv2.imwrite('Training_data_hist\\\\Normal-'+str(i)+'.png', equ)"
   ]
  },
  {
   "cell_type": "code",
   "execution_count": 9,
   "id": "8d9a3312",
   "metadata": {},
   "outputs": [],
   "source": [
    "import cv2\n",
    "import numpy as np\n",
    "\n",
    "# Open the image.\n",
    "for i in range(1,1001):\n",
    "    img = cv2.imread('Training_data\\\\COVID-'+str(i)+'.png')\n",
    "    grayimg = cv2.cvtColor(img, cv2.COLOR_BGR2GRAY)\n",
    "    equ = cv2.equalizeHist(grayimg)\n",
    "    cv2.imwrite('Training_data_hist\\\\COVID-'+str(i)+'.png', equ)"
   ]
  },
  {
   "cell_type": "code",
   "execution_count": 10,
   "id": "5414b8fc",
   "metadata": {},
   "outputs": [],
   "source": [
    "import cv2\n",
    "import numpy as np\n",
    "\n",
    "# Open the image.\n",
    "for i in range(1,801):\n",
    "    img = cv2.imread('Training_data\\\\Viral Pneumonia-'+str(i)+'.png')\n",
    "    grayimg = cv2.cvtColor(img, cv2.COLOR_BGR2GRAY)\n",
    "    equ = cv2.equalizeHist(grayimg)\n",
    "    cv2.imwrite('Training_data_hist\\\\Viral Pneumonia-'+str(i)+'.png', equ)"
   ]
  },
  {
   "cell_type": "code",
   "execution_count": 2,
   "id": "dc32f466",
   "metadata": {},
   "outputs": [],
   "source": [
    "import cv2\n",
    "import numpy as np\n",
    "\n",
    "# Open the image.\n",
    "for i in range(1,301):\n",
    "    img = cv2.imread('Training_data\\\\Normal-'+str(i)+'.png')\n",
    "    grayimg = cv2.cvtColor(img, cv2.COLOR_BGR2GRAY)\n",
    "    clahe = cv2.createCLAHE()\n",
    "    cl1 = clahe.apply(grayimg)\n",
    "    cv2.imwrite('Training_data_adhist\\\\Normal-'+str(i)+'.png', cl1)"
   ]
  },
  {
   "cell_type": "code",
   "execution_count": 3,
   "id": "d5ffe6f2",
   "metadata": {},
   "outputs": [],
   "source": [
    "import cv2\n",
    "import numpy as np\n",
    "\n",
    "# Open the image.\n",
    "for i in range(1,301):\n",
    "    img = cv2.imread('Training_data\\\\COVID-'+str(i)+'.png')\n",
    "    grayimg = cv2.cvtColor(img, cv2.COLOR_BGR2GRAY)\n",
    "    clahe = cv2.createCLAHE()\n",
    "    cl1 = clahe.apply(grayimg)\n",
    "    cv2.imwrite('Training_data_adhist\\\\COVID-'+str(i)+'.png', cl1)"
   ]
  },
  {
   "cell_type": "code",
   "execution_count": 4,
   "id": "a567008d",
   "metadata": {},
   "outputs": [],
   "source": [
    "import cv2\n",
    "import numpy as np\n",
    "\n",
    "# Open the image.\n",
    "for i in range(1,301):\n",
    "    img = cv2.imread('Training_data\\\\Viral Pneumonia-'+str(i)+'.png')\n",
    "    grayimg = cv2.cvtColor(img, cv2.COLOR_BGR2GRAY)\n",
    "    clahe = cv2.createCLAHE()\n",
    "    cl1 = clahe.apply(grayimg)\n",
    "    cv2.imwrite('Training_data_adhist\\\\Viral Pneumonia-'+str(i)+'.png', cl1)"
   ]
  },
  {
   "cell_type": "code",
   "execution_count": 5,
   "id": "2b4c6a5d",
   "metadata": {},
   "outputs": [],
   "source": [
    "import cv2\n",
    "import numpy as np\n",
    "\n",
    "# Open the image.\n",
    "for i in range(1800,2001):\n",
    "    img = cv2.imread('Test_data\\\\Normal-'+str(i)+'.png')\n",
    "    grayimg = cv2.cvtColor(img, cv2.COLOR_BGR2GRAY)\n",
    "    clahe = cv2.createCLAHE()\n",
    "    cl1 = clahe.apply(grayimg)\n",
    "    cv2.imwrite('Training_data_adhist\\\\Normal-'+str(i)+'.png', cl1)\n",
    "\n",
    "# Open the image.\n",
    "for i in range(1700,1900):\n",
    "    img = cv2.imread('Test_data\\\\COVID-'+str(i)+'.png')\n",
    "    grayimg = cv2.cvtColor(img, cv2.COLOR_BGR2GRAY)\n",
    "    clahe = cv2.createCLAHE()\n",
    "    cl1 = clahe.apply(grayimg)\n",
    "    cv2.imwrite('Test_data_adhist\\\\COVID-'+str(i)+'.png', cl1)\n",
    "    \n",
    "# Open the image.\n",
    "for i in range(801,1001):\n",
    "    img = cv2.imread('Test_data\\\\Viral Pneumonia-'+str(i)+'.png')\n",
    "    grayimg = cv2.cvtColor(img, cv2.COLOR_BGR2GRAY)\n",
    "    clahe = cv2.createCLAHE()\n",
    "    cl1 = clahe.apply(grayimg)\n",
    "    cv2.imwrite('Test_data_adhist\\\\Viral Pneumonia-'+str(i)+'.png', cl1)"
   ]
  },
  {
   "cell_type": "code",
   "execution_count": null,
   "id": "92b66b7b",
   "metadata": {},
   "outputs": [],
   "source": [
    "import cv2\n",
    "import numpy as np\n",
    "  \n",
    "# Function to map each intensity level to output intensity level.\n",
    "def pixelVal(pix, r1, s1, r2, s2):\n",
    "    if (0 <= pix and pix <= r1):\n",
    "        return (s1 / r1)*pix\n",
    "    elif (r1 < pix and pix <= r2):\n",
    "        return ((s2 - s1)/(r2 - r1)) * (pix - r1) + s1\n",
    "    else:\n",
    "        return ((255 - s2)/(255 - r2)) * (pix - r2) + s2\n",
    "  \n",
    "# Open the image.\n",
    "img = cv2.imread('sample.jpg')\n",
    "  \n",
    "# Define parameters.\n",
    "r1 = 70\n",
    "s1 = 0\n",
    "r2 = 140\n",
    "s2 = 255\n",
    "  \n",
    "# Vectorize the function to apply it to each value in the Numpy array.\n",
    "pixelVal_vec = np.vectorize(pixelVal)\n",
    "  \n",
    "# Apply contrast stretching.\n",
    "contrast_stretched = pixelVal_vec(img, r1, s1, r2, s2)\n",
    "  \n",
    "# Save edited image.\n",
    "cv2.imwrite('contrast_stretch.jpg', contrast_stretched)"
   ]
  }
 ],
 "metadata": {
  "kernelspec": {
   "display_name": "Python 3 (ipykernel)",
   "language": "python",
   "name": "python3"
  },
  "language_info": {
   "codemirror_mode": {
    "name": "ipython",
    "version": 3
   },
   "file_extension": ".py",
   "mimetype": "text/x-python",
   "name": "python",
   "nbconvert_exporter": "python",
   "pygments_lexer": "ipython3",
   "version": "3.9.7"
  }
 },
 "nbformat": 4,
 "nbformat_minor": 5
}
